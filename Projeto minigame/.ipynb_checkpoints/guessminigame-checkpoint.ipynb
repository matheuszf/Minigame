{
 "cells": [
  {
   "cell_type": "code",
   "execution_count": 568,
   "metadata": {},
   "outputs": [],
   "source": [
    "from random import randint"
   ]
  },
  {
   "cell_type": "code",
   "execution_count": 569,
   "metadata": {},
   "outputs": [
    {
     "name": "stdout",
     "output_type": "stream",
     "text": [
      "Vou pensar em um número de 1 a 3, tente adivinhar!!\n"
     ]
    }
   ],
   "source": [
    "computador_choice = int(randint(1,3))\n",
    "print(\"Vou pensar em um número de 1 a 3, tente adivinhar!!\")"
   ]
  },
  {
   "cell_type": "code",
   "execution_count": 570,
   "metadata": {},
   "outputs": [],
   "source": [
    "def player_choice1(valor):\n",
    "    '''Essa função faz com que retorne a escolha do jogador, caso o usuário escolha uma string ou um número negativo ao inves de um int'''\n",
    "    while True:\n",
    "        try:\n",
    "            player_choice2 = int(input(valor))\n",
    "        except ValueError:\n",
    "            print(\"Escolha um número inteiro válido!\")\n",
    "            continue\n",
    "            \n",
    "        if player_choice2 < 0:\n",
    "            print(\"Desculpa, sua resposta não pode ser um número negativo\")\n",
    "            continue\n",
    "                    \n",
    "        else:\n",
    "            break\n",
    "    return(player_choice2)\n",
    "        "
   ]
  },
  {
   "cell_type": "code",
   "execution_count": 467,
   "metadata": {},
   "outputs": [
    {
     "name": "stdout",
     "output_type": "stream",
     "text": [
      "Em que número eu pensei:asda\n",
      "Escolha um número inteiro válido!\n",
      "Em que número eu pensei:-4\n",
      "Desculpa, sua resposta não pode ser um número negativo\n",
      "Em que número eu pensei:3\n"
     ]
    }
   ],
   "source": [
    "player_choice = player_choice1(\"Em que número eu pensei:\")\n"
   ]
  },
  {
   "cell_type": "code",
   "execution_count": 461,
   "metadata": {},
   "outputs": [],
   "source": [
    "def n_rounds1(value):\n",
    "    '''Essa função faz com que retorne um input, onde a resposta deve ser um int,não negativo e número ímpar'''\n",
    "    while True:\n",
    "        try:\n",
    "            n_rounds2 =  int(input(value))\n",
    "        except ValueError:\n",
    "            print(\"Escolha um número inteiro ímpar!\")\n",
    "            continue\n",
    "            \n",
    "        if n_rounds2 < 0:\n",
    "            print(\"Desculpa, sua resposta não pode ser um número negativo\")\n",
    "            continue\n",
    "            \n",
    "        elif n_rounds2 %2 == 0:\n",
    "            print(\"Sua resposta deve ser um número ímpar\")\n",
    "            continue\n",
    "            \n",
    "        \n",
    "            \n",
    "        else:\n",
    "            break\n",
    "    return(n_rounds2)"
   ]
  },
  {
   "cell_type": "code",
   "execution_count": 465,
   "metadata": {},
   "outputs": [
    {
     "name": "stdout",
     "output_type": "stream",
     "text": [
      "Escolha um numero impar de rounds:4\n",
      "Sua resposta deve ser um número ímpar\n",
      "Escolha um numero impar de rounds:ads\n",
      "Escolha um número inteiro ímpar!\n",
      "Escolha um numero impar de rounds:-2\n",
      "Desculpa, sua resposta não pode ser um número negativo\n",
      "Escolha um numero impar de rounds:1\n"
     ]
    }
   ],
   "source": [
    "n_rounds = n_rounds1(\"Escolha um numero impar de rounds:\")\n"
   ]
  },
  {
   "cell_type": "code",
   "execution_count": 109,
   "metadata": {},
   "outputs": [
    {
     "name": "stdout",
     "output_type": "stream",
     "text": [
      "3\n"
     ]
    }
   ],
   "source": [
    "#Print de quantos rounds é necessário para ganhar a partida.\n",
    "rounds_to_win = int(n_rounds/2)+1\n",
    "print(rounds_to_win)"
   ]
  },
  {
   "cell_type": "code",
   "execution_count": 140,
   "metadata": {},
   "outputs": [],
   "source": [
    "cpu_score = 0\n",
    "player_score = 0"
   ]
  },
  {
   "cell_type": "code",
   "execution_count": 170,
   "metadata": {},
   "outputs": [
    {
     "name": "stdout",
     "output_type": "stream",
     "text": [
      "Você perdeu esse round!!Tente novamente\n"
     ]
    }
   ],
   "source": [
    "#definição de vencedor\n",
    "if player_choice == computador_choice:\n",
    "    player_score += 1\n",
    "    print(\"Você ganhou esse round!!!UHULL\")\n",
    "    \n",
    "elif player_choice != computador_choice:\n",
    "    cpu_score += 1\n",
    "    print(\"Você perdeu esse round!!Tente novamente\")\n"
   ]
  },
  {
   "cell_type": "code",
   "execution_count": 173,
   "metadata": {},
   "outputs": [],
   "source": [
    "#Definição de quem ganha e quem perde.\n",
    "round_result = 0\n",
    "if player_choice == computador_choice:\n",
    "    round_result = 2\n",
    "elif player_choice != computador_choice:\n",
    "    round_result = 1"
   ]
  },
  {
   "cell_type": "code",
   "execution_count": 183,
   "metadata": {},
   "outputs": [],
   "source": [
    "if round_result == 2:\n",
    "    print(\"Você ganhou esse round!!!Parabéns\")\n",
    "elif round_result == 1:\n",
    "    print(\"Você perdeu esse round!!Tente novamente\")"
   ]
  },
  {
   "cell_type": "code",
   "execution_count": 178,
   "metadata": {},
   "outputs": [],
   "source": [
    "for i in range(n_rounds) or player_score < rounds_to_win or cpu_score < rounds_to_win:\n",
    "    round_result = 0"
   ]
  },
  {
   "cell_type": "code",
   "execution_count": 179,
   "metadata": {},
   "outputs": [],
   "source": [
    "if round_result == 2:\n",
    "    print(\"Você escolheu:\", player_choice, \"Computador pensou no número:\", computer_choice)\n",
    "    player_score += 1\n",
    "    print(\"Você ganhou esse round!!\")\n",
    "elif round_result == 1:\n",
    "    print(\"Você escolheu:\", player_choice, \"Computador pesnou no número:\", computer_choice)\n",
    "    cpu_score += 1\n",
    "    print(\"Você perdeu esse round.\")\n",
    "    \n"
   ]
  },
  {
   "cell_type": "code",
   "execution_count": 180,
   "metadata": {},
   "outputs": [
    {
     "name": "stdout",
     "output_type": "stream",
     "text": [
      "YEAHHHH!!! Você ganhou essa partida! 10 a 9\n"
     ]
    }
   ],
   "source": [
    "if player_score > cpu_score:\n",
    "    print(\"YEAHHHH!!! Você ganhou essa partida!\", player_score, \"a\", cpu_score)\n",
    "elif player_score < cpu_score:\n",
    "    print(\"Você perdeu essa partida.\", player_score, \"a\", cpu_score)\n",
    "    \n"
   ]
  },
  {
   "cell_type": "code",
   "execution_count": 571,
   "metadata": {},
   "outputs": [
    {
     "name": "stdout",
     "output_type": "stream",
     "text": [
      "Escolha um número ímpar de rounds: 3\n",
      "--------------------------------------------------\n",
      "Vou pensar em um número de 1 a 3, tente adivinhar!!\n",
      "--------------------------------------------------\n",
      "Eu escolho o número: 3\n",
      "--------------------------------------------------\n",
      "Computador pensou no número: 1\n",
      "--------------------------------------------------\n",
      "Você perdeu esse round. Tente novamente!!\n",
      "Eu escolho o número: 2\n",
      "--------------------------------------------------\n",
      "Computador pensou no número: 2\n",
      "--------------------------------------------------\n",
      "Você ganhou esse round!!\n",
      "Eu escolho o número: 1\n",
      "--------------------------------------------------\n",
      "Computador pensou no número: 3\n",
      "--------------------------------------------------\n",
      "Você perdeu esse round. Tente novamente!!\n",
      "--------------------------------------------------\n",
      "Você perdeu essa partida. 2 a 1\n"
     ]
    }
   ],
   "source": [
    "from random import randint\n",
    "\n",
    "n_rounds = n_rounds1(\"Escolha um número ímpar de rounds: \")\n",
    "print(\"-----\"*10)\n",
    "rounds_to_win = int(n_rounds/2)+1\n",
    "\n",
    "computador_choice = int(randint(1,3))\n",
    "print(\"Vou pensar em um número de 1 a 3, tente adivinhar!!\")\n",
    "print(\"-----\"*10)\n",
    "\n",
    "cpu_score = 0\n",
    "player_score = 0\n",
    "\n",
    "for i in range(n_rounds):\n",
    "    computador_choice = int(randint(1,3))\n",
    "    if player_score < rounds_to_win or cpu_score < rounds_to_win:\n",
    "        player_choice = player_choice1(\"Eu escolho o número: \")\n",
    "        \n",
    "        print(\"-----\"*10)    \n",
    "        \n",
    "    if computador_choice == player_choice:\n",
    "        round_result = 2\n",
    "    elif computador_choice != player_choice:\n",
    "        round_result = 1\n",
    "    \n",
    "    if round_result == 2:\n",
    "        player_score += 1\n",
    "        print(\"Computador pensou no número:\", computador_choice)\n",
    "        print(\"-----\"*10)\n",
    "        print(\"Você ganhou esse round!!\")\n",
    "    elif round_result == 1:\n",
    "        \n",
    "            cpu_score += 1\n",
    "            print(\"Computador pensou no número:\", computador_choice)\n",
    "            print(\"-----\"*10)\n",
    "            print(\"Você perdeu esse round. Tente novamente!!\")\n",
    "            \n",
    "if player_score > cpu_score:\n",
    "    print(\"-----\"*10)\n",
    "    print(\"YEAHHHH!!! Você ganhou essa partida!\", player_score, \"a\", cpu_score)\n",
    "elif player_score < cpu_score:\n",
    "    print(\"-----\"*10)\n",
    "    print(\"Você perdeu essa partida.\", cpu_score, \"a\", player_score)\n",
    "        \n",
    "    "
   ]
  }
 ],
 "metadata": {
  "kernelspec": {
   "display_name": "Python 3",
   "language": "python",
   "name": "python3"
  },
  "language_info": {
   "codemirror_mode": {
    "name": "ipython",
    "version": 3
   },
   "file_extension": ".py",
   "mimetype": "text/x-python",
   "name": "python",
   "nbconvert_exporter": "python",
   "pygments_lexer": "ipython3",
   "version": "3.8.5"
  }
 },
 "nbformat": 4,
 "nbformat_minor": 4
}
