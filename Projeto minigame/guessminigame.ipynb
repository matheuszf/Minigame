{
 "cells": [
  {
   "cell_type": "code",
   "execution_count": 29,
   "metadata": {},
   "outputs": [],
   "source": [
    "import random"
   ]
  },
  {
   "cell_type": "code",
   "execution_count": null,
   "metadata": {},
   "outputs": [],
   "source": [
    "#lista de números para adivinhar\n",
    "lista = range(1, int(input('Coloque a quantidade de números para ser adivinhado: '))+1)"
   ]
  },
  {
   "cell_type": "code",
   "execution_count": 11,
   "metadata": {
    "scrolled": true
   },
   "outputs": [
    {
     "name": "stdout",
     "output_type": "stream",
     "text": [
      "Vou pensar em um número de  1 a  2 tente adivinhar!!\n"
     ]
    }
   ],
   "source": [
    "#Definição da escolha do computador.\n",
    "computador_choice = random.choice(lista)\n",
    "print(\"Vou pensar em um número de \", lista[0], \"a \", lista[-1], \"tente adivinhar!!\")"
   ]
  },
  {
   "cell_type": "code",
   "execution_count": 39,
   "metadata": {},
   "outputs": [],
   "source": [
    "def player_choice1(valor,lista):\n",
    "    '''Essa função faz com que retorne a escolha do jogador, caso o usuário escolha uma string ou um número negativo ao inves de um int'''\n",
    "    while True:\n",
    "        try:\n",
    "            player_choice2 = int(input(valor))\n",
    "        except ValueError:\n",
    "            print(\"Escolha um número inteiro válido!\")\n",
    "            continue\n",
    "            \n",
    "        if player_choice2 < 0:\n",
    "            print(\"Desculpa, sua resposta não pode ser um número negativo\")\n",
    "            continue\n",
    "        elif player_choice2 not in lista:\n",
    "            print(\"Número não está na lista\")\n",
    "            continue\n",
    "    \n",
    "        else:\n",
    "            break\n",
    "    return(player_choice2)"
   ]
  },
  {
   "cell_type": "code",
   "execution_count": 13,
   "metadata": {},
   "outputs": [
    {
     "name": "stdout",
     "output_type": "stream",
     "text": [
      "Eu escolho o número: 2\n"
     ]
    }
   ],
   "source": [
    "player_choice = player_choice1(\"Eu escolho o número: \")"
   ]
  },
  {
   "cell_type": "code",
   "execution_count": 14,
   "metadata": {},
   "outputs": [],
   "source": [
    "def n_rounds1(value):\n",
    "    '''Essa função faz com que retorne um input, onde a resposta deve ser um int,não negativo e número ímpar'''\n",
    "    while True:\n",
    "        try:\n",
    "            n_rounds2 =  int(input(value))\n",
    "        except ValueError:\n",
    "            print(\"Escolha um número inteiro ímpar!\")\n",
    "            continue\n",
    "            \n",
    "        if n_rounds2 < 0:\n",
    "            print(\"Desculpa, sua resposta não pode ser um número negativo\")\n",
    "            continue\n",
    "            \n",
    "        elif n_rounds2 %2 == 0:\n",
    "            print(\"Sua resposta deve ser um número ímpar\")\n",
    "            continue\n",
    "            \n",
    "        \n",
    "            \n",
    "        else:\n",
    "            break\n",
    "    return(n_rounds2)"
   ]
  },
  {
   "cell_type": "code",
   "execution_count": 15,
   "metadata": {},
   "outputs": [
    {
     "name": "stdout",
     "output_type": "stream",
     "text": [
      "Escolha um numero impar de rounds:3\n"
     ]
    }
   ],
   "source": [
    "n_rounds = n_rounds1(\"Escolha um numero impar de rounds:\")\n"
   ]
  },
  {
   "cell_type": "code",
   "execution_count": 16,
   "metadata": {},
   "outputs": [
    {
     "name": "stdout",
     "output_type": "stream",
     "text": [
      "2\n"
     ]
    }
   ],
   "source": [
    "#Print de quantos rounds é necessário para ganhar a partida.\n",
    "rounds_to_win = int(n_rounds/2)+1\n",
    "print(rounds_to_win)"
   ]
  },
  {
   "cell_type": "code",
   "execution_count": 18,
   "metadata": {},
   "outputs": [],
   "source": [
    "cpu_score = 0\n",
    "player_score = 0"
   ]
  },
  {
   "cell_type": "code",
   "execution_count": 19,
   "metadata": {},
   "outputs": [
    {
     "name": "stdout",
     "output_type": "stream",
     "text": [
      "Você ganhou esse round!!!UHULL\n"
     ]
    }
   ],
   "source": [
    "#definição de vencedor\n",
    "if player_choice == computador_choice:\n",
    "    player_score += 1\n",
    "    print(\"Você ganhou esse round!!!UHULL\")\n",
    "    \n",
    "elif player_choice != computador_choice:\n",
    "    cpu_score += 1\n",
    "    print(\"Você perdeu esse round!!Tente novamente\")\n"
   ]
  },
  {
   "cell_type": "code",
   "execution_count": 20,
   "metadata": {},
   "outputs": [],
   "source": [
    "#Definição de quem ganha e quem perde.\n",
    "round_result = 0\n",
    "if player_choice == computador_choice:\n",
    "    round_result = 2\n",
    "elif player_choice != computador_choice:\n",
    "    round_result = 1"
   ]
  },
  {
   "cell_type": "code",
   "execution_count": 21,
   "metadata": {},
   "outputs": [
    {
     "name": "stdout",
     "output_type": "stream",
     "text": [
      "Você ganhou esse round!!!Parabéns\n"
     ]
    }
   ],
   "source": [
    "if round_result == 2:\n",
    "    print(\"Você ganhou esse round!!!Parabéns\")\n",
    "elif round_result == 1:\n",
    "    print(\"Você perdeu esse round!!Tente novamente\")"
   ]
  },
  {
   "cell_type": "code",
   "execution_count": 22,
   "metadata": {},
   "outputs": [],
   "source": [
    "for i in range(n_rounds) or player_score < rounds_to_win or cpu_score < rounds_to_win:\n",
    "    round_result = 0"
   ]
  },
  {
   "cell_type": "code",
   "execution_count": 23,
   "metadata": {},
   "outputs": [],
   "source": [
    "if round_result == 2:\n",
    "    print(\"Você escolheu:\", player_choice, \"Computador pensou no número:\", computer_choice)\n",
    "    player_score += 1\n",
    "    print(\"Você ganhou esse round!!\")\n",
    "elif round_result == 1:\n",
    "    print(\"Você escolheu:\", player_choice, \"Computador pesnou no número:\", computer_choice)\n",
    "    cpu_score += 1\n",
    "    print(\"Você perdeu esse round.\")\n",
    "    \n"
   ]
  },
  {
   "cell_type": "code",
   "execution_count": 24,
   "metadata": {},
   "outputs": [
    {
     "name": "stdout",
     "output_type": "stream",
     "text": [
      "YEAHHHH!!! Você ganhou essa partida! 1 a 0\n"
     ]
    }
   ],
   "source": [
    "if player_score > cpu_score:\n",
    "    print(\"YEAHHHH!!! Você ganhou essa partida!\", player_score, \"a\", cpu_score)\n",
    "elif player_score < cpu_score:\n",
    "    print(\"Você perdeu essa partida.\", player_score, \"a\", cpu_score)\n",
    "    \n"
   ]
  },
  {
   "cell_type": "code",
   "execution_count": 37,
   "metadata": {},
   "outputs": [],
   "source": [
    "def game():\n",
    "    \"\"\"Essa função roda o jogo\"\"\"\n",
    "    \n",
    "    n_rounds = n_rounds1(\"Escolha um número ímpar de rounds: \")\n",
    "    print(\"-----\"*10)\n",
    "    lista = range(1, int(input('Coloque a quantidade de números para ser adivinhado: '))+1) #lista de números para adivinhar\n",
    "    print(\"-----\"*10)\n",
    "    print(\"Vamos começar!!\")\n",
    "    print(\"1...\")\n",
    "    sleep(1)\n",
    "    print(\"2...\")\n",
    "    sleep(1)\n",
    "    print(\"3...\")\n",
    "    \n",
    "    rounds_to_win = int(n_rounds/2)+1\n",
    "    \n",
    "    computador_choice = random.choice(lista)\n",
    "    print(\"Vou pensar em um número de\", lista[0], \"a\", lista[-1], \"tente adivinhar!!\")\n",
    "    print(\"-----\"*10)\n",
    "    \n",
    "    cpu_score = 0\n",
    "    player_score = 0\n",
    "    \n",
    "    for i in range(n_rounds):\n",
    "       \n",
    "        if player_score < rounds_to_win or cpu_score < rounds_to_win:\n",
    "            player_choice = player_choice1(\"Eu escolho o número: \",lista)\n",
    "            \n",
    "            print(\"-----\"*10)    \n",
    "            \n",
    "        if computador_choice == player_choice:\n",
    "            round_result = 2\n",
    "        elif computador_choice != player_choice:\n",
    "            round_result = 1\n",
    "        \n",
    "        if round_result == 2:\n",
    "            player_score += 1\n",
    "            print(\"Computador pensou no número:\", computador_choice)\n",
    "            print(\"-----\"*10)\n",
    "            print(\"Você ganhou esse round!!\")\n",
    "        elif round_result == 1:\n",
    "            \n",
    "                cpu_score += 1\n",
    "                print(\"Computador pensou no número:\", computador_choice)\n",
    "                print(\"-----\"*10)\n",
    "                print(\"Você perdeu esse round. Tente novamente!!\")\n",
    "                \n",
    "    if player_score > cpu_score:\n",
    "        print(\"-----\"*10)\n",
    "        print(\"YEAHHHH!!! Você ganhou essa partida!\", player_score, \"a\", cpu_score)\n",
    "    elif player_score < cpu_score:\n",
    "        print(\"-----\"*10)\n",
    "        print(\"Você perdeu essa partida.\", cpu_score, \"a\", player_score)\n",
    "        \n",
    "    import sys\n",
    "    resposta = input(\"Comoçar um jogo novo? sim ou não?\\n\")\n",
    "    if resposta == \"não\":\n",
    "        print(\"Saindo do jogo\")\n",
    "        sys.exit()\n",
    "    elif resposta == \"sim\":\n",
    "        print(\"Começando um jogo novo\")\n",
    "        game()        \n",
    "            \n"
   ]
  },
  {
   "cell_type": "code",
   "execution_count": 32,
   "metadata": {},
   "outputs": [
    {
     "ename": "KeyboardInterrupt",
     "evalue": "Interrupted by user",
     "output_type": "error",
     "traceback": [
      "\u001b[1;31m---------------------------------------------------------------------------\u001b[0m",
      "\u001b[1;31mKeyboardInterrupt\u001b[0m                         Traceback (most recent call last)",
      "\u001b[1;32m<ipython-input-32-0131839dae43>\u001b[0m in \u001b[0;36m<module>\u001b[1;34m\u001b[0m\n\u001b[0;32m      1\u001b[0m \u001b[1;32mimport\u001b[0m \u001b[0msys\u001b[0m\u001b[1;33m\u001b[0m\u001b[1;33m\u001b[0m\u001b[0m\n\u001b[1;32m----> 2\u001b[1;33m \u001b[0mresposta\u001b[0m \u001b[1;33m=\u001b[0m \u001b[0minput\u001b[0m\u001b[1;33m(\u001b[0m\u001b[1;34m\"Comoçar um jogo novo? s ou n?\\n\"\u001b[0m\u001b[1;33m)\u001b[0m\u001b[1;33m\u001b[0m\u001b[1;33m\u001b[0m\u001b[0m\n\u001b[0m\u001b[0;32m      3\u001b[0m \u001b[1;32mif\u001b[0m \u001b[0mresposta\u001b[0m \u001b[1;33m==\u001b[0m \u001b[1;34m\"n\"\u001b[0m\u001b[1;33m:\u001b[0m\u001b[1;33m\u001b[0m\u001b[1;33m\u001b[0m\u001b[0m\n\u001b[0;32m      4\u001b[0m     \u001b[0mprint\u001b[0m\u001b[1;33m(\u001b[0m\u001b[1;34m\"Saindo do jogo\"\u001b[0m\u001b[1;33m)\u001b[0m\u001b[1;33m\u001b[0m\u001b[1;33m\u001b[0m\u001b[0m\n\u001b[0;32m      5\u001b[0m     \u001b[0msys\u001b[0m\u001b[1;33m.\u001b[0m\u001b[0mexit\u001b[0m\u001b[1;33m(\u001b[0m\u001b[1;33m)\u001b[0m\u001b[1;33m\u001b[0m\u001b[1;33m\u001b[0m\u001b[0m\n",
      "\u001b[1;32m~\\anaconda3\\lib\\site-packages\\ipykernel\\kernelbase.py\u001b[0m in \u001b[0;36mraw_input\u001b[1;34m(self, prompt)\u001b[0m\n\u001b[0;32m    858\u001b[0m                 \u001b[1;34m\"raw_input was called, but this frontend does not support input requests.\"\u001b[0m\u001b[1;33m\u001b[0m\u001b[1;33m\u001b[0m\u001b[0m\n\u001b[0;32m    859\u001b[0m             )\n\u001b[1;32m--> 860\u001b[1;33m         return self._input_request(str(prompt),\n\u001b[0m\u001b[0;32m    861\u001b[0m             \u001b[0mself\u001b[0m\u001b[1;33m.\u001b[0m\u001b[0m_parent_ident\u001b[0m\u001b[1;33m,\u001b[0m\u001b[1;33m\u001b[0m\u001b[1;33m\u001b[0m\u001b[0m\n\u001b[0;32m    862\u001b[0m             \u001b[0mself\u001b[0m\u001b[1;33m.\u001b[0m\u001b[0m_parent_header\u001b[0m\u001b[1;33m,\u001b[0m\u001b[1;33m\u001b[0m\u001b[1;33m\u001b[0m\u001b[0m\n",
      "\u001b[1;32m~\\anaconda3\\lib\\site-packages\\ipykernel\\kernelbase.py\u001b[0m in \u001b[0;36m_input_request\u001b[1;34m(self, prompt, ident, parent, password)\u001b[0m\n\u001b[0;32m    902\u001b[0m             \u001b[1;32mexcept\u001b[0m \u001b[0mKeyboardInterrupt\u001b[0m\u001b[1;33m:\u001b[0m\u001b[1;33m\u001b[0m\u001b[1;33m\u001b[0m\u001b[0m\n\u001b[0;32m    903\u001b[0m                 \u001b[1;31m# re-raise KeyboardInterrupt, to truncate traceback\u001b[0m\u001b[1;33m\u001b[0m\u001b[1;33m\u001b[0m\u001b[1;33m\u001b[0m\u001b[0m\n\u001b[1;32m--> 904\u001b[1;33m                 \u001b[1;32mraise\u001b[0m \u001b[0mKeyboardInterrupt\u001b[0m\u001b[1;33m(\u001b[0m\u001b[1;34m\"Interrupted by user\"\u001b[0m\u001b[1;33m)\u001b[0m \u001b[1;32mfrom\u001b[0m \u001b[1;32mNone\u001b[0m\u001b[1;33m\u001b[0m\u001b[1;33m\u001b[0m\u001b[0m\n\u001b[0m\u001b[0;32m    905\u001b[0m             \u001b[1;32mexcept\u001b[0m \u001b[0mException\u001b[0m \u001b[1;32mas\u001b[0m \u001b[0me\u001b[0m\u001b[1;33m:\u001b[0m\u001b[1;33m\u001b[0m\u001b[1;33m\u001b[0m\u001b[0m\n\u001b[0;32m    906\u001b[0m                 \u001b[0mself\u001b[0m\u001b[1;33m.\u001b[0m\u001b[0mlog\u001b[0m\u001b[1;33m.\u001b[0m\u001b[0mwarning\u001b[0m\u001b[1;33m(\u001b[0m\u001b[1;34m\"Invalid Message:\"\u001b[0m\u001b[1;33m,\u001b[0m \u001b[0mexc_info\u001b[0m\u001b[1;33m=\u001b[0m\u001b[1;32mTrue\u001b[0m\u001b[1;33m)\u001b[0m\u001b[1;33m\u001b[0m\u001b[1;33m\u001b[0m\u001b[0m\n",
      "\u001b[1;31mKeyboardInterrupt\u001b[0m: Interrupted by user"
     ]
    }
   ],
   "source": [
    "import sys\n",
    "resposta = input(\"Comoçar um jogo novo? s ou n?\\n\")\n",
    "if resposta == \"n\":\n",
    "    print(\"Saindo do jogo\")\n",
    "    sys.exit()\n",
    "elif resposta == \"s\":\n",
    "    print(\"Começando um jogo novo\")\n",
    "    game()"
   ]
  },
  {
   "cell_type": "code",
   "execution_count": 34,
   "metadata": {},
   "outputs": [
    {
     "name": "stdout",
     "output_type": "stream",
     "text": [
      "Escolha um número ímpar de rounds: 3\n",
      "--------------------------------------------------\n",
      "Coloque a quantidade de números para ser adivinhado: 5\n",
      "--------------------------------------------------\n",
      "Vamos começar!!\n",
      "1...\n",
      "2...\n",
      "3...\n",
      "Vou pensar em um número de 1 a 5 tente adivinhar!!\n",
      "--------------------------------------------------\n",
      "Eu escolho o número: 3\n",
      "--------------------------------------------------\n",
      "Computador pensou no número: 2\n",
      "--------------------------------------------------\n",
      "Você perdeu esse round. Tente novamente!!\n",
      "Eu escolho o número: asdas\n",
      "Escolha um número inteiro válido!\n",
      "Eu escolho o número: -4\n",
      "Desculpa, sua resposta não pode ser um número negativo\n",
      "Eu escolho o número: 7\n",
      "Número não está na lista\n",
      "Eu escolho o número: 2\n",
      "--------------------------------------------------\n",
      "Computador pensou no número: 2\n",
      "--------------------------------------------------\n",
      "Você ganhou esse round!!\n",
      "Eu escolho o número: 1\n",
      "--------------------------------------------------\n",
      "Computador pensou no número: 2\n",
      "--------------------------------------------------\n",
      "Você perdeu esse round. Tente novamente!!\n",
      "--------------------------------------------------\n",
      "Você perdeu essa partida. 2 a 1\n",
      "--------------------------------------------------\n",
      "Comoçar um jogo novo? sim ou não?\n",
      "sim\n",
      "--------------------------------------------------\n",
      "Começando um jogo novo...\n",
      "--------------------------------------------------\n",
      "Escolha um número ímpar de rounds: 3\n",
      "--------------------------------------------------\n",
      "Coloque a quantidade de números para ser adivinhado: 10\n",
      "--------------------------------------------------\n",
      "Vamos começar!!\n",
      "1...\n",
      "2...\n",
      "3...\n",
      "Vou pensar em um número de 1 a 10 tente adivinhar!!\n",
      "--------------------------------------------------\n",
      "Eu escolho o número: 9\n",
      "Número não está na lista\n",
      "Eu escolho o número: 11\n",
      "Número não está na lista\n",
      "Eu escolho o número: 6\n",
      "Número não está na lista\n",
      "Eu escolho o número: 3\n",
      "--------------------------------------------------\n",
      "Computador pensou no número: 1\n",
      "--------------------------------------------------\n",
      "Você perdeu esse round. Tente novamente!!\n",
      "Eu escolho o número: 2\n",
      "--------------------------------------------------\n",
      "Computador pensou no número: 1\n",
      "--------------------------------------------------\n",
      "Você perdeu esse round. Tente novamente!!\n",
      "Eu escolho o número: 1\n",
      "--------------------------------------------------\n",
      "Computador pensou no número: 1\n",
      "--------------------------------------------------\n",
      "Você ganhou esse round!!\n",
      "--------------------------------------------------\n",
      "Você perdeu essa partida. 2 a 1\n",
      "Comoçar um jogo novo? sim ou não?\n",
      "não\n",
      "Saindo do jogo\n"
     ]
    },
    {
     "ename": "SystemExit",
     "evalue": "",
     "output_type": "error",
     "traceback": [
      "An exception has occurred, use %tb to see the full traceback.\n",
      "\u001b[1;31mSystemExit\u001b[0m\n"
     ]
    },
    {
     "name": "stderr",
     "output_type": "stream",
     "text": [
      "C:\\Users\\Matheus Zavagli\\anaconda3\\lib\\site-packages\\IPython\\core\\interactiveshell.py:3426: UserWarning: To exit: use 'exit', 'quit', or Ctrl-D.\n",
      "  warn(\"To exit: use 'exit', 'quit', or Ctrl-D.\", stacklevel=1)\n"
     ]
    }
   ],
   "source": [
    "import random\n",
    "from time import sleep\n",
    "\n",
    "n_rounds = n_rounds1(\"Escolha um número ímpar de rounds: \")\n",
    "print(\"-----\"*10)\n",
    "lista = range(1, int(input('Coloque a quantidade de números para ser adivinhado: '))+1) #lista de números para adivinhar\n",
    "print(\"-----\"*10)\n",
    "print(\"Vamos começar!!\")\n",
    "print(\"1...\")\n",
    "sleep(1)\n",
    "print(\"2...\")\n",
    "sleep(1)\n",
    "print(\"3...\")\n",
    "\n",
    "rounds_to_win = int(n_rounds/2)+1\n",
    "\n",
    "computador_choice = random.choice(lista)\n",
    "print(\"Vou pensar em um número de\", lista[0], \"a\", lista[-1], \"tente adivinhar!!\")\n",
    "print(\"-----\"*10)\n",
    "\n",
    "cpu_score = 0\n",
    "player_score = 0\n",
    "\n",
    "for i in range(n_rounds):\n",
    "    \n",
    "    if player_score < rounds_to_win or cpu_score < rounds_to_win:\n",
    "        player_choice = player_choice1(\"Eu escolho o número: \")\n",
    "        \n",
    "        print(\"-----\"*10)    \n",
    "        \n",
    "    if computador_choice == player_choice:\n",
    "        round_result = 2\n",
    "    elif computador_choice != player_choice:\n",
    "        round_result = 1\n",
    "    \n",
    "    if round_result == 2:\n",
    "        player_score += 1\n",
    "        print(\"Computador pensou no número:\", computador_choice)\n",
    "        print(\"-----\"*10)\n",
    "        print(\"Você ganhou esse round!!\")\n",
    "    elif round_result == 1:\n",
    "        \n",
    "            cpu_score += 1\n",
    "            print(\"Computador pensou no número:\", computador_choice)\n",
    "            print(\"-----\"*10)\n",
    "            print(\"Você perdeu esse round. Tente novamente!!\")\n",
    "            \n",
    "if player_score > cpu_score:\n",
    "    print(\"-----\"*10)\n",
    "    print(\"YEAHHHH!!! Você ganhou essa partida!\", player_score, \"a\", cpu_score)\n",
    "    print(\"-----\"*10)\n",
    "elif player_score < cpu_score:\n",
    "    print(\"-----\"*10)\n",
    "    print(\"Você perdeu essa partida.\", cpu_score, \"a\", player_score)\n",
    "    print(\"-----\"*10)\n",
    "    \n",
    "import sys\n",
    "resposta = input(\"Comoçar um jogo novo? sim ou não?\\n\")\n",
    "print(\"-----\"*10)\n",
    "if resposta == \"não\":\n",
    "    print(\"Saindo do jogo\")\n",
    "    sys.exit()\n",
    "elif resposta == \"sim\":\n",
    "    print(\"Começando um jogo novo...\")\n",
    "    print(\"-----\"*10)\n",
    "    game()\n",
    "    "
   ]
  },
  {
   "cell_type": "code",
   "execution_count": null,
   "metadata": {},
   "outputs": [
    {
     "name": "stdout",
     "output_type": "stream",
     "text": [
      "Escolha um número ímpar de rounds: 3\n",
      "--------------------------------------------------\n",
      "Coloque a quantidade de números para ser adivinhado: 10\n",
      "--------------------------------------------------\n",
      "Vamos começar!!\n",
      "1...\n",
      "2...\n",
      "3...\n",
      "Vou pensar em um número de 1 a 10 tente adivinhar!!\n",
      "--------------------------------------------------\n",
      "Eu escolho o número: 9\n",
      "--------------------------------------------------\n",
      "Computador pensou no número: 7\n",
      "--------------------------------------------------\n",
      "Você perdeu esse round. Tente novamente!!\n",
      "Eu escolho o número: 11\n",
      "Número não está na lista\n",
      "Eu escolho o número: 8\n",
      "--------------------------------------------------\n",
      "Computador pensou no número: 7\n",
      "--------------------------------------------------\n",
      "Você perdeu esse round. Tente novamente!!\n",
      "Eu escolho o número: 3\n",
      "--------------------------------------------------\n",
      "Computador pensou no número: 7\n",
      "--------------------------------------------------\n",
      "Você perdeu esse round. Tente novamente!!\n",
      "--------------------------------------------------\n",
      "Você perdeu essa partida. 3 a 0\n",
      "Comoçar um jogo novo? sim ou não?\n",
      "sim\n",
      "Começando um jogo novo\n",
      "Escolha um número ímpar de rounds: 3\n",
      "--------------------------------------------------\n"
     ]
    }
   ],
   "source": [
    "game()"
   ]
  }
 ],
 "metadata": {
  "kernelspec": {
   "display_name": "Python 3",
   "language": "python",
   "name": "python3"
  },
  "language_info": {
   "codemirror_mode": {
    "name": "ipython",
    "version": 3
   },
   "file_extension": ".py",
   "mimetype": "text/x-python",
   "name": "python",
   "nbconvert_exporter": "python",
   "pygments_lexer": "ipython3",
   "version": "3.8.5"
  }
 },
 "nbformat": 4,
 "nbformat_minor": 4
}
